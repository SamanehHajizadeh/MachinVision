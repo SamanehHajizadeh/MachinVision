import cv2
import numpy as np
import matplotlib.pyplot as plt
import json


def count_pixels (imgName, x, w_x, y, w_y, orientation, type):

    #Variables taken from the database
    #imgName is the image name given in the database
    #x, y the left down corner at which the rectangular region of interest (ROI, the soldering area) starts. 
    #w_x and w_y is weight and heigh of the ROI
    #orientation, either vertical or horizontal
    #type, can be "GOOD", "BAD" or "MISSING". Classification of the image according to the database. Used to calculate performance, only for development.

    
    # Load an image    
    img = cv2.imread(imgName)
    # Check if the image was loaded successfully
    if img is None:
        print('Failed to load image')

    #Lower and upper orange values for the mask, filters golden. Should be modified if the light is modified. Recommended to use cold light.
    orange_lower = (15, 80, 120)
    orange_upper = (35, 255, 255)

    #Lower and upper values for black color, filters black to detect gaps bewteen solders. Should be modified if the light is modified. Recommended to use cold light.
    black_lower = (0, 0, 0)
    black_upper = (180, 255, 55)

    #Crops the image in the region of interest (ROI) which is the solders
    hsv = cv2.cvtColor(img,cv2.COLOR_BGR2HSV)
    hsv_cropped_orange = hsv[y:(y+w_y), x:(x+w_x)]
    hsv_cropped_black = hsv[y:(y+w_y), x:(x+w_x)]

    #Apply orange mask to detect golden
    orange_mask = cv2.inRange(hsv_cropped_orange, orange_lower, orange_upper) 
    
    #Apply black mask to detect gaps in soldering
    black_mask = cv2.inRange(hsv_cropped_black, black_lower, black_upper) 

    center_x = round(w_x*0.5)
    center_y = round(w_y*0.5)

    if orientation == "VERTICAL":
        width = round(w_x*0.6)
        height = round(w_y*0.4)

    else:
        width = round(w_x*0.4)
        height = round(w_y*0.6)

    x_c = int(center_x - width / 2)
    y_c = int(center_y - height / 2)

    #imgSquare contains the estimated ROI for the black mask

    imgSquare = img[y:(y+w_y), x:(x+w_x)]
    imgSquare = cv2.rectangle(img[y:(y+w_y), x:(x+w_x)], (x_c,y_c), (x_c + width, y_c + height), (255,0,0), 1)

    #Plot the result of the masks, uncomment if needed
    '''
    fig, (ax1, ax2, ax3) = plt.subplots(1, 3)
    ax1.set_title('Image')
    ax1.imshow(cv2.cvtColor(img[y:(y+w_y), x:(x+w_x)], cv2.COLOR_BGR2RGB))
    ax2.set_title('Orange mask')
    ax2.imshow(orange_mask)
    ax3.set_title('Black mask')
    ax3.imshow(black_mask)
    fig.suptitle(imgName, fontsize=16)
    fig.savefig('masks' + imgName)
    fig.show()
    cv2.waitKey(0)
    cv2.destroyAllWindows()
    '''

    cropped_black = black_mask[y_c:y_c + height, x_c:x_c + width] 

    num_pixels_orange = cv2.countNonZero(orange_mask)
    num_pixels_black = cv2.countNonZero(cropped_black)

    percent_orange = num_pixels_orange / (w_x * w_y)
    percent_black = num_pixels_black / (w_x * w_y) *20

    
    if percent_orange<0.2:
        if percent_black < 0.11:
            state = "GOOD"
        else: state = "BAD"
    elif percent_orange > 0.4:
        state = "MISSING"
    elif 0.2<percent_orange<0.4 or percent_black>0.2:
        state = "BAD"
    else:
        state = "Error"

    #Shows the images that have been wrongly classified, according to the classification of the database

    '''
    if state != type:
        #Plot the result of the masks
        title = "Classification: " + state + " Type: " + type
        fig, (ax1, ax2, ax3, ax4) = plt.subplots(1, 4)
        ax1.set_title('Image')
        ax1.imshow(cv2.cvtColor(img[y:(y+w_y), x:(x+w_x)], cv2.COLOR_BGR2RGB))
        ax2.set_title('Orange mask')
        ax2.imshow(orange_mask)
        ax3.set_title('Black mask')
        ax3.imshow(black_mask)
        ax4.set_title('Cropped black mask')
        ax4.imshow(imgSquare)
        fig.suptitle(title, fontsize=16)
        fig.show()
        cv2.waitKey(60)   
        print("Orange pixels: ", percent_orange)
        print("Black pixels: ", percent_black) 

     '''   

    return state

# Opening JSON file
with open('metadata.json', 'r') as json_file:
    data = json.loads(json_file.read())
 
    lists = {
        'GOOD': {
            'num_orange': [],
            'num_black': [],
        },

        'BAD': {
            'num_orange': [],
            'num_black': [],
        },

        'MISSING':{
            'num_orange': [],
            'num_black': [],
        },
    }


    count_correct = 0
    count_incorrect = 0
    
    for i, (filename, metadata) in enumerate(data.items()):

       
     
        if metadata['environment']['lighting'] != 'TIKTOK_COLD_8':
            continue
        
        for solder in metadata['solders']:

            result = count_pixels(filename, solder['x'], solder['width'], solder['y'], solder['height'], solder['orientation'], solder['type'])
            
            if result == solder['type']:
                count_correct = count_correct +1
    
            else:
                count_incorrect = count_incorrect +1
               
            
    performance = count_correct / (count_incorrect + count_correct)*100
    print("Performance: ", performance)
                
